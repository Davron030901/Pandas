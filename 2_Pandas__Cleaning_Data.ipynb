{
  "nbformat": 4,
  "nbformat_minor": 0,
  "metadata": {
    "colab": {
      "provenance": [],
      "authorship_tag": "ABX9TyNVyociIvWXRJ8ZLixv8q6o",
      "include_colab_link": true
    },
    "kernelspec": {
      "name": "python3",
      "display_name": "Python 3"
    },
    "language_info": {
      "name": "python"
    }
  },
  "cells": [
    {
      "cell_type": "markdown",
      "metadata": {
        "id": "view-in-github",
        "colab_type": "text"
      },
      "source": [
        "<a href=\"https://colab.research.google.com/github/Davron030901/Pandas/blob/main/2_Pandas__Cleaning_Data.ipynb\" target=\"_parent\"><img src=\"https://colab.research.google.com/assets/colab-badge.svg\" alt=\"Open In Colab\"/></a>"
      ]
    },
    {
      "cell_type": "markdown",
      "source": [
        "***Pandas - Cleaning Data***"
      ],
      "metadata": {
        "id": "jMDkGdGYul24"
      }
    },
    {
      "cell_type": "markdown",
      "source": [
        "*Data cleaning* means fixing bad data in your data set.\n",
        "\n",
        "Bad data could be:\n",
        "\n",
        "*   Empty cells\n",
        "*   Data in wrong format\n",
        "*   Wrong data\n",
        "*   Duplicates\n",
        "\n",
        "In this tutorial you will learn how to deal with all of them.\n",
        "\n",
        "Our Data Set\n",
        "In the next chapters we will use this data set:"
      ],
      "metadata": {
        "id": "i_nUtQ-4utmK"
      }
    },
    {
      "cell_type": "markdown",
      "source": [
        "**Pandas - Cleaning Empty Cells**"
      ],
      "metadata": {
        "id": "eUmyUqChv2uK"
      }
    },
    {
      "cell_type": "markdown",
      "source": [
        "*Empty cells* can potentially give you a wrong result when you analyze data.\n",
        "\n",
        "*Remove Rows*\n",
        "One way to deal with empty cells is to remove rows that contain empty cells.\n",
        "\n",
        "This is usually OK, since data sets can be very big, and removing a few rows will not have a big impact on the result."
      ],
      "metadata": {
        "id": "6aXY621ev7Q4"
      }
    },
    {
      "cell_type": "code",
      "source": [
        "import pandas as pd\n",
        "\n",
        "df = pd.read_csv('datas.csv')\n",
        "\n",
        "new_df = df.dropna()\n",
        "\n",
        "print(new_df.to_string())"
      ],
      "metadata": {
        "colab": {
          "base_uri": "https://localhost:8080/"
        },
        "id": "hy_0Bo6ouxaI",
        "outputId": "b7ae5bf0-7d9c-4575-eef6-4ff70f921fcc"
      },
      "execution_count": 10,
      "outputs": [
        {
          "output_type": "stream",
          "name": "stdout",
          "text": [
            "    Duration          Date  Pulse  Maxpulse  Calories\n",
            "0         60  '2020/12/01'    110       130     409.1\n",
            "1         60  '2020/12/02'    117       145     479.0\n",
            "2         60  '2020/12/03'    103       135     340.0\n",
            "3         45  '2020/12/04'    109       175     282.4\n",
            "4         45  '2020/12/05'    117       148     406.0\n",
            "5         60  '2020/12/06'    102       127     300.0\n",
            "6         60  '2020/12/07'    110       136     374.0\n",
            "7        450  '2020/12/08'    104       134     253.3\n",
            "8         30  '2020/12/09'    109       133     195.1\n",
            "9         60  '2020/12/10'     98       124     269.0\n",
            "10        60  '2020/12/11'    103       147     329.3\n",
            "11        60  '2020/12/12'    100       120     250.7\n",
            "12        60  '2020/12/12'    100       120     250.7\n",
            "13        60  '2020/12/13'    106       128     345.3\n",
            "14        60  '2020/12/14'    104       132     379.3\n",
            "15        60  '2020/12/15'     98       123     275.0\n",
            "16        60  '2020/12/16'     98       120     215.2\n",
            "17        60  '2020/12/17'    100       120     300.0\n",
            "19        60  '2020/12/19'    103       123     323.0\n",
            "20        45  '2020/12/20'     97       125     243.0\n",
            "21        60  '2020/12/21'    108       131     364.2\n",
            "23        60  '2020/12/23'    130       101     300.0\n",
            "24        45  '2020/12/24'    105       132     246.0\n",
            "25        60  '2020/12/25'    102       126     334.5\n",
            "26        60      20201226    100       120     250.0\n",
            "27        60  '2020/12/27'     92       118     241.0\n",
            "29        60  '2020/12/29'    100       132     280.0\n",
            "30        60  '2020/12/30'    102       129     380.3\n",
            "31        60  '2020/12/31'     92       115     243.0\n"
          ]
        }
      ]
    },
    {
      "cell_type": "markdown",
      "source": [
        "Note: By default, the *dropna()* method returns a new DataFrame, and will not change the original.\n",
        "\n",
        "If you want to change the original DataFrame, use the *inplace = True* argument:"
      ],
      "metadata": {
        "id": "hoJrfKyqwU22"
      }
    },
    {
      "cell_type": "code",
      "source": [
        "df = pd.read_csv('datas.csv')\n",
        "\n",
        "df.dropna(inplace = True)\n",
        "\n",
        "print(df.to_string())"
      ],
      "metadata": {
        "colab": {
          "base_uri": "https://localhost:8080/"
        },
        "id": "Cf1mu2t-wiCU",
        "outputId": "c6bfd3fa-a2f1-4ffc-a52e-46b0b21d35ce"
      },
      "execution_count": 11,
      "outputs": [
        {
          "output_type": "stream",
          "name": "stdout",
          "text": [
            "    Duration          Date  Pulse  Maxpulse  Calories\n",
            "0         60  '2020/12/01'    110       130     409.1\n",
            "1         60  '2020/12/02'    117       145     479.0\n",
            "2         60  '2020/12/03'    103       135     340.0\n",
            "3         45  '2020/12/04'    109       175     282.4\n",
            "4         45  '2020/12/05'    117       148     406.0\n",
            "5         60  '2020/12/06'    102       127     300.0\n",
            "6         60  '2020/12/07'    110       136     374.0\n",
            "7        450  '2020/12/08'    104       134     253.3\n",
            "8         30  '2020/12/09'    109       133     195.1\n",
            "9         60  '2020/12/10'     98       124     269.0\n",
            "10        60  '2020/12/11'    103       147     329.3\n",
            "11        60  '2020/12/12'    100       120     250.7\n",
            "12        60  '2020/12/12'    100       120     250.7\n",
            "13        60  '2020/12/13'    106       128     345.3\n",
            "14        60  '2020/12/14'    104       132     379.3\n",
            "15        60  '2020/12/15'     98       123     275.0\n",
            "16        60  '2020/12/16'     98       120     215.2\n",
            "17        60  '2020/12/17'    100       120     300.0\n",
            "19        60  '2020/12/19'    103       123     323.0\n",
            "20        45  '2020/12/20'     97       125     243.0\n",
            "21        60  '2020/12/21'    108       131     364.2\n",
            "23        60  '2020/12/23'    130       101     300.0\n",
            "24        45  '2020/12/24'    105       132     246.0\n",
            "25        60  '2020/12/25'    102       126     334.5\n",
            "26        60      20201226    100       120     250.0\n",
            "27        60  '2020/12/27'     92       118     241.0\n",
            "29        60  '2020/12/29'    100       132     280.0\n",
            "30        60  '2020/12/30'    102       129     380.3\n",
            "31        60  '2020/12/31'     92       115     243.0\n"
          ]
        }
      ]
    },
    {
      "cell_type": "markdown",
      "source": [
        "Note: Now, the *dropna(inplace = True)* will NOT return a new DataFrame, but it will remove all rows containing NULL values from the original DataFrame.\n",
        "\n",
        "**Replace Empty Values**\n",
        "\n",
        "Another way of dealing with empty cells is to insert a new value instead.\n",
        "\n",
        "This way you do not have to delete entire rows just because of some empty cells.\n",
        "\n",
        "The *fillna()* method allows us to replace empty cells with a value:"
      ],
      "metadata": {
        "id": "lJppDW4Sw25H"
      }
    },
    {
      "cell_type": "code",
      "source": [
        "df = pd.read_csv('datas.csv')\n",
        "\n",
        "df.fillna(130, inplace = True)\n",
        "print(df.to_string())"
      ],
      "metadata": {
        "colab": {
          "base_uri": "https://localhost:8080/"
        },
        "id": "O3GsSu8JxdiO",
        "outputId": "2bc19a2a-c861-4989-d830-115e4d935888"
      },
      "execution_count": 12,
      "outputs": [
        {
          "output_type": "stream",
          "name": "stdout",
          "text": [
            "    Duration          Date  Pulse  Maxpulse  Calories\n",
            "0         60  '2020/12/01'    110       130     409.1\n",
            "1         60  '2020/12/02'    117       145     479.0\n",
            "2         60  '2020/12/03'    103       135     340.0\n",
            "3         45  '2020/12/04'    109       175     282.4\n",
            "4         45  '2020/12/05'    117       148     406.0\n",
            "5         60  '2020/12/06'    102       127     300.0\n",
            "6         60  '2020/12/07'    110       136     374.0\n",
            "7        450  '2020/12/08'    104       134     253.3\n",
            "8         30  '2020/12/09'    109       133     195.1\n",
            "9         60  '2020/12/10'     98       124     269.0\n",
            "10        60  '2020/12/11'    103       147     329.3\n",
            "11        60  '2020/12/12'    100       120     250.7\n",
            "12        60  '2020/12/12'    100       120     250.7\n",
            "13        60  '2020/12/13'    106       128     345.3\n",
            "14        60  '2020/12/14'    104       132     379.3\n",
            "15        60  '2020/12/15'     98       123     275.0\n",
            "16        60  '2020/12/16'     98       120     215.2\n",
            "17        60  '2020/12/17'    100       120     300.0\n",
            "18        45  '2020/12/18'     90       112     130.0\n",
            "19        60  '2020/12/19'    103       123     323.0\n",
            "20        45  '2020/12/20'     97       125     243.0\n",
            "21        60  '2020/12/21'    108       131     364.2\n",
            "22        45           130    100       119     282.0\n",
            "23        60  '2020/12/23'    130       101     300.0\n",
            "24        45  '2020/12/24'    105       132     246.0\n",
            "25        60  '2020/12/25'    102       126     334.5\n",
            "26        60      20201226    100       120     250.0\n",
            "27        60  '2020/12/27'     92       118     241.0\n",
            "28        60  '2020/12/28'    103       132     130.0\n",
            "29        60  '2020/12/29'    100       132     280.0\n",
            "30        60  '2020/12/30'    102       129     380.3\n",
            "31        60  '2020/12/31'     92       115     243.0\n"
          ]
        }
      ]
    },
    {
      "cell_type": "markdown",
      "source": [
        "*Replace Only For Specified Columns*\n",
        "\n",
        "The example above replaces all empty cells in the whole Data Frame.\n",
        "\n",
        "To only replace empty values for one column, specify the column name for the DataFrame:"
      ],
      "metadata": {
        "id": "laviWCHJxiPe"
      }
    },
    {
      "cell_type": "code",
      "source": [
        "df = pd.read_csv('datas.csv')\n",
        "\n",
        "df[\"Calories\"].fillna(130, inplace = True)\n",
        "print(df.to_string())"
      ],
      "metadata": {
        "colab": {
          "base_uri": "https://localhost:8080/"
        },
        "id": "Js6nhH6Axq-5",
        "outputId": "27c1adab-92a0-4f89-d948-2d88edcb4133"
      },
      "execution_count": 13,
      "outputs": [
        {
          "output_type": "stream",
          "name": "stdout",
          "text": [
            "    Duration          Date  Pulse  Maxpulse  Calories\n",
            "0         60  '2020/12/01'    110       130     409.1\n",
            "1         60  '2020/12/02'    117       145     479.0\n",
            "2         60  '2020/12/03'    103       135     340.0\n",
            "3         45  '2020/12/04'    109       175     282.4\n",
            "4         45  '2020/12/05'    117       148     406.0\n",
            "5         60  '2020/12/06'    102       127     300.0\n",
            "6         60  '2020/12/07'    110       136     374.0\n",
            "7        450  '2020/12/08'    104       134     253.3\n",
            "8         30  '2020/12/09'    109       133     195.1\n",
            "9         60  '2020/12/10'     98       124     269.0\n",
            "10        60  '2020/12/11'    103       147     329.3\n",
            "11        60  '2020/12/12'    100       120     250.7\n",
            "12        60  '2020/12/12'    100       120     250.7\n",
            "13        60  '2020/12/13'    106       128     345.3\n",
            "14        60  '2020/12/14'    104       132     379.3\n",
            "15        60  '2020/12/15'     98       123     275.0\n",
            "16        60  '2020/12/16'     98       120     215.2\n",
            "17        60  '2020/12/17'    100       120     300.0\n",
            "18        45  '2020/12/18'     90       112     130.0\n",
            "19        60  '2020/12/19'    103       123     323.0\n",
            "20        45  '2020/12/20'     97       125     243.0\n",
            "21        60  '2020/12/21'    108       131     364.2\n",
            "22        45           NaN    100       119     282.0\n",
            "23        60  '2020/12/23'    130       101     300.0\n",
            "24        45  '2020/12/24'    105       132     246.0\n",
            "25        60  '2020/12/25'    102       126     334.5\n",
            "26        60      20201226    100       120     250.0\n",
            "27        60  '2020/12/27'     92       118     241.0\n",
            "28        60  '2020/12/28'    103       132     130.0\n",
            "29        60  '2020/12/29'    100       132     280.0\n",
            "30        60  '2020/12/30'    102       129     380.3\n",
            "31        60  '2020/12/31'     92       115     243.0\n"
          ]
        },
        {
          "output_type": "stream",
          "name": "stderr",
          "text": [
            "<ipython-input-13-1cbf7f202f32>:3: FutureWarning: A value is trying to be set on a copy of a DataFrame or Series through chained assignment using an inplace method.\n",
            "The behavior will change in pandas 3.0. This inplace method will never work because the intermediate object on which we are setting values always behaves as a copy.\n",
            "\n",
            "For example, when doing 'df[col].method(value, inplace=True)', try using 'df.method({col: value}, inplace=True)' or df[col] = df[col].method(value) instead, to perform the operation inplace on the original object.\n",
            "\n",
            "\n",
            "  df[\"Calories\"].fillna(130, inplace = True)\n"
          ]
        }
      ]
    },
    {
      "cell_type": "markdown",
      "source": [
        "\n",
        "**Replace Using Mean, Median, or Mode**\n",
        "A common way to replace empty cells, is to calculate the mean, median or mode value of the column.\n",
        "\n",
        "Pandas uses the *mean() median() and mode()* methods to calculate the respective values for a specified column:"
      ],
      "metadata": {
        "id": "vmIys8jlx8JW"
      }
    },
    {
      "cell_type": "code",
      "source": [
        "df = pd.read_csv('datas.csv')\n",
        "\n",
        "x = df[\"Calories\"].mean()\n",
        "\n",
        "df[\"Calories\"].fillna(x, inplace = True)\n",
        "print(df.to_string())\n",
        "#As you can see in row 18 and 28, the empty values from \"Calories\" was replaced with the mean: 304.68"
      ],
      "metadata": {
        "colab": {
          "base_uri": "https://localhost:8080/"
        },
        "id": "OZiyV28OyHXZ",
        "outputId": "9ec298bc-612c-4a11-e996-acb9e494d460"
      },
      "execution_count": 15,
      "outputs": [
        {
          "output_type": "stream",
          "name": "stdout",
          "text": [
            "    Duration          Date  Pulse  Maxpulse  Calories\n",
            "0         60  '2020/12/01'    110       130    409.10\n",
            "1         60  '2020/12/02'    117       145    479.00\n",
            "2         60  '2020/12/03'    103       135    340.00\n",
            "3         45  '2020/12/04'    109       175    282.40\n",
            "4         45  '2020/12/05'    117       148    406.00\n",
            "5         60  '2020/12/06'    102       127    300.00\n",
            "6         60  '2020/12/07'    110       136    374.00\n",
            "7        450  '2020/12/08'    104       134    253.30\n",
            "8         30  '2020/12/09'    109       133    195.10\n",
            "9         60  '2020/12/10'     98       124    269.00\n",
            "10        60  '2020/12/11'    103       147    329.30\n",
            "11        60  '2020/12/12'    100       120    250.70\n",
            "12        60  '2020/12/12'    100       120    250.70\n",
            "13        60  '2020/12/13'    106       128    345.30\n",
            "14        60  '2020/12/14'    104       132    379.30\n",
            "15        60  '2020/12/15'     98       123    275.00\n",
            "16        60  '2020/12/16'     98       120    215.20\n",
            "17        60  '2020/12/17'    100       120    300.00\n",
            "18        45  '2020/12/18'     90       112    304.68\n",
            "19        60  '2020/12/19'    103       123    323.00\n",
            "20        45  '2020/12/20'     97       125    243.00\n",
            "21        60  '2020/12/21'    108       131    364.20\n",
            "22        45           NaN    100       119    282.00\n",
            "23        60  '2020/12/23'    130       101    300.00\n",
            "24        45  '2020/12/24'    105       132    246.00\n",
            "25        60  '2020/12/25'    102       126    334.50\n",
            "26        60      20201226    100       120    250.00\n",
            "27        60  '2020/12/27'     92       118    241.00\n",
            "28        60  '2020/12/28'    103       132    304.68\n",
            "29        60  '2020/12/29'    100       132    280.00\n",
            "30        60  '2020/12/30'    102       129    380.30\n",
            "31        60  '2020/12/31'     92       115    243.00\n"
          ]
        },
        {
          "output_type": "stream",
          "name": "stderr",
          "text": [
            "<ipython-input-15-e416bf794ed2>:5: FutureWarning: A value is trying to be set on a copy of a DataFrame or Series through chained assignment using an inplace method.\n",
            "The behavior will change in pandas 3.0. This inplace method will never work because the intermediate object on which we are setting values always behaves as a copy.\n",
            "\n",
            "For example, when doing 'df[col].method(value, inplace=True)', try using 'df.method({col: value}, inplace=True)' or df[col] = df[col].method(value) instead, to perform the operation inplace on the original object.\n",
            "\n",
            "\n",
            "  df[\"Calories\"].fillna(x, inplace = True)\n"
          ]
        }
      ]
    },
    {
      "cell_type": "markdown",
      "source": [
        "Mean = the average value (the sum of all values divided by number of values)."
      ],
      "metadata": {
        "id": "dqk6PlfUzN4o"
      }
    },
    {
      "cell_type": "code",
      "source": [
        "df = pd.read_csv('datas.csv')\n",
        "\n",
        "x = df[\"Calories\"].median()\n",
        "\n",
        "df[\"Calories\"].fillna(x, inplace = True)\n",
        "\n",
        "print(df.to_string())\n",
        "\n",
        "#As you can see in row 18 and 28, the empty values from \"Calories\" was replaced with the median: 291.2"
      ],
      "metadata": {
        "colab": {
          "base_uri": "https://localhost:8080/"
        },
        "id": "HKW5tychzW_T",
        "outputId": "0ee37380-37bb-4fd9-eeab-b5e3d70004cf"
      },
      "execution_count": 16,
      "outputs": [
        {
          "output_type": "stream",
          "name": "stdout",
          "text": [
            "    Duration          Date  Pulse  Maxpulse  Calories\n",
            "0         60  '2020/12/01'    110       130     409.1\n",
            "1         60  '2020/12/02'    117       145     479.0\n",
            "2         60  '2020/12/03'    103       135     340.0\n",
            "3         45  '2020/12/04'    109       175     282.4\n",
            "4         45  '2020/12/05'    117       148     406.0\n",
            "5         60  '2020/12/06'    102       127     300.0\n",
            "6         60  '2020/12/07'    110       136     374.0\n",
            "7        450  '2020/12/08'    104       134     253.3\n",
            "8         30  '2020/12/09'    109       133     195.1\n",
            "9         60  '2020/12/10'     98       124     269.0\n",
            "10        60  '2020/12/11'    103       147     329.3\n",
            "11        60  '2020/12/12'    100       120     250.7\n",
            "12        60  '2020/12/12'    100       120     250.7\n",
            "13        60  '2020/12/13'    106       128     345.3\n",
            "14        60  '2020/12/14'    104       132     379.3\n",
            "15        60  '2020/12/15'     98       123     275.0\n",
            "16        60  '2020/12/16'     98       120     215.2\n",
            "17        60  '2020/12/17'    100       120     300.0\n",
            "18        45  '2020/12/18'     90       112     291.2\n",
            "19        60  '2020/12/19'    103       123     323.0\n",
            "20        45  '2020/12/20'     97       125     243.0\n",
            "21        60  '2020/12/21'    108       131     364.2\n",
            "22        45           NaN    100       119     282.0\n",
            "23        60  '2020/12/23'    130       101     300.0\n",
            "24        45  '2020/12/24'    105       132     246.0\n",
            "25        60  '2020/12/25'    102       126     334.5\n",
            "26        60      20201226    100       120     250.0\n",
            "27        60  '2020/12/27'     92       118     241.0\n",
            "28        60  '2020/12/28'    103       132     291.2\n",
            "29        60  '2020/12/29'    100       132     280.0\n",
            "30        60  '2020/12/30'    102       129     380.3\n",
            "31        60  '2020/12/31'     92       115     243.0\n"
          ]
        },
        {
          "output_type": "stream",
          "name": "stderr",
          "text": [
            "<ipython-input-16-c4206a2fe3e9>:5: FutureWarning: A value is trying to be set on a copy of a DataFrame or Series through chained assignment using an inplace method.\n",
            "The behavior will change in pandas 3.0. This inplace method will never work because the intermediate object on which we are setting values always behaves as a copy.\n",
            "\n",
            "For example, when doing 'df[col].method(value, inplace=True)', try using 'df.method({col: value}, inplace=True)' or df[col] = df[col].method(value) instead, to perform the operation inplace on the original object.\n",
            "\n",
            "\n",
            "  df[\"Calories\"].fillna(x, inplace = True)\n"
          ]
        }
      ]
    },
    {
      "cell_type": "markdown",
      "source": [
        "*Median* = the value in the middle, after you have sorted all values ascending."
      ],
      "metadata": {
        "id": "UPKWP3hJzjpK"
      }
    },
    {
      "cell_type": "code",
      "source": [
        "df = pd.read_csv('datas.csv')\n",
        "\n",
        "x = df[\"Calories\"].mode()[0]\n",
        "\n",
        "df[\"Calories\"].fillna(x, inplace = True)"
      ],
      "metadata": {
        "colab": {
          "base_uri": "https://localhost:8080/"
        },
        "id": "BR9AYmBEzoU5",
        "outputId": "c6884f89-a4f0-4a3d-f567-4798e6c979b3"
      },
      "execution_count": 18,
      "outputs": [
        {
          "output_type": "stream",
          "name": "stderr",
          "text": [
            "<ipython-input-18-3807ca8955ec>:5: FutureWarning: A value is trying to be set on a copy of a DataFrame or Series through chained assignment using an inplace method.\n",
            "The behavior will change in pandas 3.0. This inplace method will never work because the intermediate object on which we are setting values always behaves as a copy.\n",
            "\n",
            "For example, when doing 'df[col].method(value, inplace=True)', try using 'df.method({col: value}, inplace=True)' or df[col] = df[col].method(value) instead, to perform the operation inplace on the original object.\n",
            "\n",
            "\n",
            "  df[\"Calories\"].fillna(x, inplace = True)\n"
          ]
        }
      ]
    },
    {
      "cell_type": "markdown",
      "source": [
        "*Mode* = the value that appears most frequently."
      ],
      "metadata": {
        "id": "0tZbL5vLzv29"
      }
    },
    {
      "cell_type": "markdown",
      "source": [
        "***Data of Wrong Format***\n",
        "\n",
        "Cells with data of wrong format can make it difficult, or even impossible, to analyze data.\n",
        "\n",
        "To fix it, you have two options: remove the rows, or convert all cells in the columns into the same format.\n",
        "\n",
        "*Convert Into a Correct Format*\n",
        "\n",
        "In our Data Frame, we have two cells with the wrong format. Check out row 22 and 26, the 'Date' column should be a string that represents a date:"
      ],
      "metadata": {
        "id": "qa3_BcHD0W_1"
      }
    },
    {
      "cell_type": "markdown",
      "source": [
        "Pandas has a *to_datetime()* method for this:"
      ],
      "metadata": {
        "id": "iFYq5grc07NX"
      }
    },
    {
      "cell_type": "code",
      "source": [
        "# Load the CSV file\n",
        "df = pd.read_csv('/content/datas.csv')\n",
        "\n",
        "# Convert the 'Date' column to datetime format, specifying the correct format\n",
        "df['Date'] = pd.to_datetime(df['Date'], format='%Y%m%d')\n",
        "\n",
        "# Print the DataFrame\n",
        "print(df.to_string())"
      ],
      "metadata": {
        "colab": {
          "base_uri": "https://localhost:8080/",
          "height": 582
        },
        "id": "pHDLYWYtz0IU",
        "outputId": "a0d44ba0-27f6-4d94-b9db-0663748578dd"
      },
      "execution_count": 31,
      "outputs": [
        {
          "output_type": "error",
          "ename": "ValueError",
          "evalue": "time data \"'2020/12/01'\" doesn't match format \"%Y%m%d\", at position 0. You might want to try:\n    - passing `format` if your strings have a consistent format;\n    - passing `format='ISO8601'` if your strings are all ISO8601 but not necessarily in exactly the same format;\n    - passing `format='mixed'`, and the format will be inferred for each element individually. You might want to use `dayfirst` alongside this.",
          "traceback": [
            "\u001b[0;31m---------------------------------------------------------------------------\u001b[0m",
            "\u001b[0;31mValueError\u001b[0m                                Traceback (most recent call last)",
            "\u001b[0;32m<ipython-input-31-a92f81aa87ff>\u001b[0m in \u001b[0;36m<cell line: 5>\u001b[0;34m()\u001b[0m\n\u001b[1;32m      3\u001b[0m \u001b[0;34m\u001b[0m\u001b[0m\n\u001b[1;32m      4\u001b[0m \u001b[0;31m# Convert the 'Date' column to datetime format, specifying the correct format\u001b[0m\u001b[0;34m\u001b[0m\u001b[0;34m\u001b[0m\u001b[0m\n\u001b[0;32m----> 5\u001b[0;31m \u001b[0mdf\u001b[0m\u001b[0;34m[\u001b[0m\u001b[0;34m'Date'\u001b[0m\u001b[0;34m]\u001b[0m \u001b[0;34m=\u001b[0m \u001b[0mpd\u001b[0m\u001b[0;34m.\u001b[0m\u001b[0mto_datetime\u001b[0m\u001b[0;34m(\u001b[0m\u001b[0mdf\u001b[0m\u001b[0;34m[\u001b[0m\u001b[0;34m'Date'\u001b[0m\u001b[0;34m]\u001b[0m\u001b[0;34m,\u001b[0m \u001b[0mformat\u001b[0m\u001b[0;34m=\u001b[0m\u001b[0;34m'%Y%m%d'\u001b[0m\u001b[0;34m)\u001b[0m\u001b[0;34m\u001b[0m\u001b[0;34m\u001b[0m\u001b[0m\n\u001b[0m\u001b[1;32m      6\u001b[0m \u001b[0;34m\u001b[0m\u001b[0m\n\u001b[1;32m      7\u001b[0m \u001b[0;31m# Print the DataFrame\u001b[0m\u001b[0;34m\u001b[0m\u001b[0;34m\u001b[0m\u001b[0m\n",
            "\u001b[0;32m/usr/local/lib/python3.10/dist-packages/pandas/core/tools/datetimes.py\u001b[0m in \u001b[0;36mto_datetime\u001b[0;34m(arg, errors, dayfirst, yearfirst, utc, format, exact, unit, infer_datetime_format, origin, cache)\u001b[0m\n\u001b[1;32m   1065\u001b[0m             \u001b[0mresult\u001b[0m \u001b[0;34m=\u001b[0m \u001b[0marg\u001b[0m\u001b[0;34m.\u001b[0m\u001b[0mmap\u001b[0m\u001b[0;34m(\u001b[0m\u001b[0mcache_array\u001b[0m\u001b[0;34m)\u001b[0m\u001b[0;34m\u001b[0m\u001b[0;34m\u001b[0m\u001b[0m\n\u001b[1;32m   1066\u001b[0m         \u001b[0;32melse\u001b[0m\u001b[0;34m:\u001b[0m\u001b[0;34m\u001b[0m\u001b[0;34m\u001b[0m\u001b[0m\n\u001b[0;32m-> 1067\u001b[0;31m             \u001b[0mvalues\u001b[0m \u001b[0;34m=\u001b[0m \u001b[0mconvert_listlike\u001b[0m\u001b[0;34m(\u001b[0m\u001b[0marg\u001b[0m\u001b[0;34m.\u001b[0m\u001b[0m_values\u001b[0m\u001b[0;34m,\u001b[0m \u001b[0mformat\u001b[0m\u001b[0;34m)\u001b[0m\u001b[0;34m\u001b[0m\u001b[0;34m\u001b[0m\u001b[0m\n\u001b[0m\u001b[1;32m   1068\u001b[0m             \u001b[0mresult\u001b[0m \u001b[0;34m=\u001b[0m \u001b[0marg\u001b[0m\u001b[0;34m.\u001b[0m\u001b[0m_constructor\u001b[0m\u001b[0;34m(\u001b[0m\u001b[0mvalues\u001b[0m\u001b[0;34m,\u001b[0m \u001b[0mindex\u001b[0m\u001b[0;34m=\u001b[0m\u001b[0marg\u001b[0m\u001b[0;34m.\u001b[0m\u001b[0mindex\u001b[0m\u001b[0;34m,\u001b[0m \u001b[0mname\u001b[0m\u001b[0;34m=\u001b[0m\u001b[0marg\u001b[0m\u001b[0;34m.\u001b[0m\u001b[0mname\u001b[0m\u001b[0;34m)\u001b[0m\u001b[0;34m\u001b[0m\u001b[0;34m\u001b[0m\u001b[0m\n\u001b[1;32m   1069\u001b[0m     \u001b[0;32melif\u001b[0m \u001b[0misinstance\u001b[0m\u001b[0;34m(\u001b[0m\u001b[0marg\u001b[0m\u001b[0;34m,\u001b[0m \u001b[0;34m(\u001b[0m\u001b[0mABCDataFrame\u001b[0m\u001b[0;34m,\u001b[0m \u001b[0mabc\u001b[0m\u001b[0;34m.\u001b[0m\u001b[0mMutableMapping\u001b[0m\u001b[0;34m)\u001b[0m\u001b[0;34m)\u001b[0m\u001b[0;34m:\u001b[0m\u001b[0;34m\u001b[0m\u001b[0;34m\u001b[0m\u001b[0m\n",
            "\u001b[0;32m/usr/local/lib/python3.10/dist-packages/pandas/core/tools/datetimes.py\u001b[0m in \u001b[0;36m_convert_listlike_datetimes\u001b[0;34m(arg, format, name, utc, unit, errors, dayfirst, yearfirst, exact)\u001b[0m\n\u001b[1;32m    431\u001b[0m     \u001b[0;31m# `format` could be inferred, or user didn't ask for mixed-format parsing.\u001b[0m\u001b[0;34m\u001b[0m\u001b[0;34m\u001b[0m\u001b[0m\n\u001b[1;32m    432\u001b[0m     \u001b[0;32mif\u001b[0m \u001b[0mformat\u001b[0m \u001b[0;32mis\u001b[0m \u001b[0;32mnot\u001b[0m \u001b[0;32mNone\u001b[0m \u001b[0;32mand\u001b[0m \u001b[0mformat\u001b[0m \u001b[0;34m!=\u001b[0m \u001b[0;34m\"mixed\"\u001b[0m\u001b[0;34m:\u001b[0m\u001b[0;34m\u001b[0m\u001b[0;34m\u001b[0m\u001b[0m\n\u001b[0;32m--> 433\u001b[0;31m         \u001b[0;32mreturn\u001b[0m \u001b[0m_array_strptime_with_fallback\u001b[0m\u001b[0;34m(\u001b[0m\u001b[0marg\u001b[0m\u001b[0;34m,\u001b[0m \u001b[0mname\u001b[0m\u001b[0;34m,\u001b[0m \u001b[0mutc\u001b[0m\u001b[0;34m,\u001b[0m \u001b[0mformat\u001b[0m\u001b[0;34m,\u001b[0m \u001b[0mexact\u001b[0m\u001b[0;34m,\u001b[0m \u001b[0merrors\u001b[0m\u001b[0;34m)\u001b[0m\u001b[0;34m\u001b[0m\u001b[0;34m\u001b[0m\u001b[0m\n\u001b[0m\u001b[1;32m    434\u001b[0m \u001b[0;34m\u001b[0m\u001b[0m\n\u001b[1;32m    435\u001b[0m     result, tz_parsed = objects_to_datetime64(\n",
            "\u001b[0;32m/usr/local/lib/python3.10/dist-packages/pandas/core/tools/datetimes.py\u001b[0m in \u001b[0;36m_array_strptime_with_fallback\u001b[0;34m(arg, name, utc, fmt, exact, errors)\u001b[0m\n\u001b[1;32m    465\u001b[0m     \u001b[0mCall\u001b[0m \u001b[0marray_strptime\u001b[0m\u001b[0;34m,\u001b[0m \u001b[0;32mwith\u001b[0m \u001b[0mfallback\u001b[0m \u001b[0mbehavior\u001b[0m \u001b[0mdepending\u001b[0m \u001b[0mon\u001b[0m \u001b[0;34m'errors'\u001b[0m\u001b[0;34m.\u001b[0m\u001b[0;34m\u001b[0m\u001b[0;34m\u001b[0m\u001b[0m\n\u001b[1;32m    466\u001b[0m     \"\"\"\n\u001b[0;32m--> 467\u001b[0;31m     \u001b[0mresult\u001b[0m\u001b[0;34m,\u001b[0m \u001b[0mtz_out\u001b[0m \u001b[0;34m=\u001b[0m \u001b[0marray_strptime\u001b[0m\u001b[0;34m(\u001b[0m\u001b[0marg\u001b[0m\u001b[0;34m,\u001b[0m \u001b[0mfmt\u001b[0m\u001b[0;34m,\u001b[0m \u001b[0mexact\u001b[0m\u001b[0;34m=\u001b[0m\u001b[0mexact\u001b[0m\u001b[0;34m,\u001b[0m \u001b[0merrors\u001b[0m\u001b[0;34m=\u001b[0m\u001b[0merrors\u001b[0m\u001b[0;34m,\u001b[0m \u001b[0mutc\u001b[0m\u001b[0;34m=\u001b[0m\u001b[0mutc\u001b[0m\u001b[0;34m)\u001b[0m\u001b[0;34m\u001b[0m\u001b[0;34m\u001b[0m\u001b[0m\n\u001b[0m\u001b[1;32m    468\u001b[0m     \u001b[0;32mif\u001b[0m \u001b[0mtz_out\u001b[0m \u001b[0;32mis\u001b[0m \u001b[0;32mnot\u001b[0m \u001b[0;32mNone\u001b[0m\u001b[0;34m:\u001b[0m\u001b[0;34m\u001b[0m\u001b[0;34m\u001b[0m\u001b[0m\n\u001b[1;32m    469\u001b[0m         \u001b[0munit\u001b[0m \u001b[0;34m=\u001b[0m \u001b[0mnp\u001b[0m\u001b[0;34m.\u001b[0m\u001b[0mdatetime_data\u001b[0m\u001b[0;34m(\u001b[0m\u001b[0mresult\u001b[0m\u001b[0;34m.\u001b[0m\u001b[0mdtype\u001b[0m\u001b[0;34m)\u001b[0m\u001b[0;34m[\u001b[0m\u001b[0;36m0\u001b[0m\u001b[0;34m]\u001b[0m\u001b[0;34m\u001b[0m\u001b[0;34m\u001b[0m\u001b[0m\n",
            "\u001b[0;32mstrptime.pyx\u001b[0m in \u001b[0;36mpandas._libs.tslibs.strptime.array_strptime\u001b[0;34m()\u001b[0m\n",
            "\u001b[0;32mstrptime.pyx\u001b[0m in \u001b[0;36mpandas._libs.tslibs.strptime.array_strptime\u001b[0;34m()\u001b[0m\n",
            "\u001b[0;32mstrptime.pyx\u001b[0m in \u001b[0;36mpandas._libs.tslibs.strptime._parse_with_format\u001b[0;34m()\u001b[0m\n",
            "\u001b[0;31mValueError\u001b[0m: time data \"'2020/12/01'\" doesn't match format \"%Y%m%d\", at position 0. You might want to try:\n    - passing `format` if your strings have a consistent format;\n    - passing `format='ISO8601'` if your strings are all ISO8601 but not necessarily in exactly the same format;\n    - passing `format='mixed'`, and the format will be inferred for each element individually. You might want to use `dayfirst` alongside this."
          ]
        }
      ]
    },
    {
      "cell_type": "code",
      "source": [
        "# Load the CSV file\n",
        "df = pd.read_csv('/content/datas.csv')\n",
        "\n",
        "# Convert the 'Date' column to datetime format, specifying the correct format\n",
        "df['Date'] = pd.to_datetime(df['Date'], errors='coerce')\n",
        "\n",
        "# Print the DataFrame\n",
        "print(df.to_string())"
      ],
      "metadata": {
        "colab": {
          "base_uri": "https://localhost:8080/"
        },
        "id": "TvdI6Xq33rHd",
        "outputId": "b7540b91-0e4f-446b-cc41-56cef11ced1b"
      },
      "execution_count": 35,
      "outputs": [
        {
          "output_type": "stream",
          "name": "stdout",
          "text": [
            "    Duration       Date  Pulse  Maxpulse  Calories\n",
            "0         60 2020-12-01    110       130     409.1\n",
            "1         60 2020-12-02    117       145     479.0\n",
            "2         60 2020-12-03    103       135     340.0\n",
            "3         45 2020-12-04    109       175     282.4\n",
            "4         45 2020-12-05    117       148     406.0\n",
            "5         60 2020-12-06    102       127     300.0\n",
            "6         60 2020-12-07    110       136     374.0\n",
            "7        450 2020-12-08    104       134     253.3\n",
            "8         30 2020-12-09    109       133     195.1\n",
            "9         60 2020-12-10     98       124     269.0\n",
            "10        60 2020-12-11    103       147     329.3\n",
            "11        60 2020-12-12    100       120     250.7\n",
            "12        60 2020-12-12    100       120     250.7\n",
            "13        60 2020-12-13    106       128     345.3\n",
            "14        60 2020-12-14    104       132     379.3\n",
            "15        60 2020-12-15     98       123     275.0\n",
            "16        60 2020-12-16     98       120     215.2\n",
            "17        60 2020-12-17    100       120     300.0\n",
            "18        45 2020-12-18     90       112       NaN\n",
            "19        60 2020-12-19    103       123     323.0\n",
            "20        45 2020-12-20     97       125     243.0\n",
            "21        60 2020-12-21    108       131     364.2\n",
            "22        45        NaT    100       119     282.0\n",
            "23        60 2020-12-23    130       101     300.0\n",
            "24        45 2020-12-24    105       132     246.0\n",
            "25        60 2020-12-25    102       126     334.5\n",
            "26        60        NaT    100       120     250.0\n",
            "27        60 2020-12-27     92       118     241.0\n",
            "28        60 2020-12-28    103       132       NaN\n",
            "29        60 2020-12-29    100       132     280.0\n",
            "30        60 2020-12-30    102       129     380.3\n",
            "31        60 2020-12-31     92       115     243.0\n"
          ]
        }
      ]
    },
    {
      "cell_type": "code",
      "source": [
        "print(df[df['Date'].isna()])"
      ],
      "metadata": {
        "colab": {
          "base_uri": "https://localhost:8080/"
        },
        "id": "OA-Hk6ZQ1uvI",
        "outputId": "d797744c-f8f3-4473-d570-b08f215a80d3"
      },
      "execution_count": 36,
      "outputs": [
        {
          "output_type": "stream",
          "name": "stdout",
          "text": [
            "    Duration Date  Pulse  Maxpulse  Calories\n",
            "22        45  NaT    100       119     282.0\n",
            "26        60  NaT    100       120     250.0\n"
          ]
        }
      ]
    },
    {
      "cell_type": "markdown",
      "source": [
        "As you can see from the result, the date in row 26 was fixed, but the empty date in row 22 got a NaT (Not a Time) value, in other words an empty value. One way to deal with empty values is simply removing the entire row.\n",
        "\n"
      ],
      "metadata": {
        "id": "jV3iKXWF4uvo"
      }
    },
    {
      "cell_type": "markdown",
      "source": [
        "**Removing Rows**\n",
        "\n",
        "The result from the converting in the example above gave us a NaT value, which can be handled as a NULL value, and we can remove the row by using the *dropna()* method."
      ],
      "metadata": {
        "id": "S23Lku324yzQ"
      }
    },
    {
      "cell_type": "code",
      "source": [
        "df.dropna(subset=['Date'], inplace = True)\n",
        "print(df.to_string())"
      ],
      "metadata": {
        "colab": {
          "base_uri": "https://localhost:8080/"
        },
        "id": "lMF4dGDA2tg_",
        "outputId": "4214a1e5-6607-4f2a-dbf5-a581815a9c81"
      },
      "execution_count": 37,
      "outputs": [
        {
          "output_type": "stream",
          "name": "stdout",
          "text": [
            "    Duration       Date  Pulse  Maxpulse  Calories\n",
            "0         60 2020-12-01    110       130     409.1\n",
            "1         60 2020-12-02    117       145     479.0\n",
            "2         60 2020-12-03    103       135     340.0\n",
            "3         45 2020-12-04    109       175     282.4\n",
            "4         45 2020-12-05    117       148     406.0\n",
            "5         60 2020-12-06    102       127     300.0\n",
            "6         60 2020-12-07    110       136     374.0\n",
            "7        450 2020-12-08    104       134     253.3\n",
            "8         30 2020-12-09    109       133     195.1\n",
            "9         60 2020-12-10     98       124     269.0\n",
            "10        60 2020-12-11    103       147     329.3\n",
            "11        60 2020-12-12    100       120     250.7\n",
            "12        60 2020-12-12    100       120     250.7\n",
            "13        60 2020-12-13    106       128     345.3\n",
            "14        60 2020-12-14    104       132     379.3\n",
            "15        60 2020-12-15     98       123     275.0\n",
            "16        60 2020-12-16     98       120     215.2\n",
            "17        60 2020-12-17    100       120     300.0\n",
            "18        45 2020-12-18     90       112       NaN\n",
            "19        60 2020-12-19    103       123     323.0\n",
            "20        45 2020-12-20     97       125     243.0\n",
            "21        60 2020-12-21    108       131     364.2\n",
            "23        60 2020-12-23    130       101     300.0\n",
            "24        45 2020-12-24    105       132     246.0\n",
            "25        60 2020-12-25    102       126     334.5\n",
            "27        60 2020-12-27     92       118     241.0\n",
            "28        60 2020-12-28    103       132       NaN\n",
            "29        60 2020-12-29    100       132     280.0\n",
            "30        60 2020-12-30    102       129     380.3\n",
            "31        60 2020-12-31     92       115     243.0\n"
          ]
        }
      ]
    },
    {
      "cell_type": "markdown",
      "source": [
        "***Pandas - Fixing Wrong Data***"
      ],
      "metadata": {
        "id": "tfRguqXS5Oqf"
      }
    },
    {
      "cell_type": "markdown",
      "source": [
        "\"Wrong data\" does not have to be \"empty cells\" or \"wrong format\", it can just be wrong, like if someone registered \"199\" instead of \"1.99\".\n",
        "\n",
        "Sometimes you can spot wrong data by looking at the data set, because you have an expectation of what it should be.\n",
        "\n",
        "If you take a look at our data set, you can see that in row 7, the duration is 450, but for all the other rows the duration is between 30 and 60.\n",
        "\n",
        "It doesn't have to be wrong, but taking in consideration that this is the data set of someone's workout sessions, we conclude with the fact that this person did not work out in 450 minutes."
      ],
      "metadata": {
        "id": "FdQN8tHQ5Usa"
      }
    },
    {
      "cell_type": "markdown",
      "source": [
        "Replacing Values\n",
        "One way to fix wrong values is to replace them with something else.\n",
        "\n",
        "In our example, it is most likely a typo, and the value should be \"45\" instead of \"450\", and we could just insert \"45\" in row 7:"
      ],
      "metadata": {
        "id": "X6ExORZH5pkE"
      }
    },
    {
      "cell_type": "code",
      "source": [
        "df.loc[7, 'Duration'] = 45"
      ],
      "metadata": {
        "id": "jSAzuKJ6447w"
      },
      "execution_count": 38,
      "outputs": []
    },
    {
      "cell_type": "code",
      "source": [
        "print(df.to_string())"
      ],
      "metadata": {
        "colab": {
          "base_uri": "https://localhost:8080/"
        },
        "id": "JEUHbe1L5ttf",
        "outputId": "4d342a4f-5f1b-44ed-f878-3fe18cd07551"
      },
      "execution_count": 39,
      "outputs": [
        {
          "output_type": "stream",
          "name": "stdout",
          "text": [
            "    Duration       Date  Pulse  Maxpulse  Calories\n",
            "0         60 2020-12-01    110       130     409.1\n",
            "1         60 2020-12-02    117       145     479.0\n",
            "2         60 2020-12-03    103       135     340.0\n",
            "3         45 2020-12-04    109       175     282.4\n",
            "4         45 2020-12-05    117       148     406.0\n",
            "5         60 2020-12-06    102       127     300.0\n",
            "6         60 2020-12-07    110       136     374.0\n",
            "7         45 2020-12-08    104       134     253.3\n",
            "8         30 2020-12-09    109       133     195.1\n",
            "9         60 2020-12-10     98       124     269.0\n",
            "10        60 2020-12-11    103       147     329.3\n",
            "11        60 2020-12-12    100       120     250.7\n",
            "12        60 2020-12-12    100       120     250.7\n",
            "13        60 2020-12-13    106       128     345.3\n",
            "14        60 2020-12-14    104       132     379.3\n",
            "15        60 2020-12-15     98       123     275.0\n",
            "16        60 2020-12-16     98       120     215.2\n",
            "17        60 2020-12-17    100       120     300.0\n",
            "18        45 2020-12-18     90       112       NaN\n",
            "19        60 2020-12-19    103       123     323.0\n",
            "20        45 2020-12-20     97       125     243.0\n",
            "21        60 2020-12-21    108       131     364.2\n",
            "23        60 2020-12-23    130       101     300.0\n",
            "24        45 2020-12-24    105       132     246.0\n",
            "25        60 2020-12-25    102       126     334.5\n",
            "27        60 2020-12-27     92       118     241.0\n",
            "28        60 2020-12-28    103       132       NaN\n",
            "29        60 2020-12-29    100       132     280.0\n",
            "30        60 2020-12-30    102       129     380.3\n",
            "31        60 2020-12-31     92       115     243.0\n"
          ]
        }
      ]
    },
    {
      "cell_type": "markdown",
      "source": [
        "For small data sets you might be able to replace the wrong data one by one, but not for big data sets.\n",
        "\n",
        "To replace wrong data for larger data sets you can create some rules, e.g. set some boundaries for legal values, and replace any values that are outside of the boundaries."
      ],
      "metadata": {
        "id": "FliRejT66Ca5"
      }
    },
    {
      "cell_type": "code",
      "source": [
        "for x in df.index:\n",
        "  if df.loc[x, \"Duration\"] > 120:\n",
        "    df.loc[x, \"Duration\"] = 120\n",
        "print(df.to_string())"
      ],
      "metadata": {
        "colab": {
          "base_uri": "https://localhost:8080/"
        },
        "id": "Ygfghcvl5y7_",
        "outputId": "e0ea4a5f-8c7c-4033-95b5-376c0e65b24b"
      },
      "execution_count": 41,
      "outputs": [
        {
          "output_type": "stream",
          "name": "stdout",
          "text": [
            "    Duration       Date  Pulse  Maxpulse  Calories\n",
            "0         60 2020-12-01    110       130     409.1\n",
            "1         60 2020-12-02    117       145     479.0\n",
            "2         60 2020-12-03    103       135     340.0\n",
            "3         45 2020-12-04    109       175     282.4\n",
            "4         45 2020-12-05    117       148     406.0\n",
            "5         60 2020-12-06    102       127     300.0\n",
            "6         60 2020-12-07    110       136     374.0\n",
            "7         45 2020-12-08    104       134     253.3\n",
            "8         30 2020-12-09    109       133     195.1\n",
            "9         60 2020-12-10     98       124     269.0\n",
            "10        60 2020-12-11    103       147     329.3\n",
            "11        60 2020-12-12    100       120     250.7\n",
            "12        60 2020-12-12    100       120     250.7\n",
            "13        60 2020-12-13    106       128     345.3\n",
            "14        60 2020-12-14    104       132     379.3\n",
            "15        60 2020-12-15     98       123     275.0\n",
            "16        60 2020-12-16     98       120     215.2\n",
            "17        60 2020-12-17    100       120     300.0\n",
            "18        45 2020-12-18     90       112       NaN\n",
            "19        60 2020-12-19    103       123     323.0\n",
            "20        45 2020-12-20     97       125     243.0\n",
            "21        60 2020-12-21    108       131     364.2\n",
            "23        60 2020-12-23    130       101     300.0\n",
            "24        45 2020-12-24    105       132     246.0\n",
            "25        60 2020-12-25    102       126     334.5\n",
            "27        60 2020-12-27     92       118     241.0\n",
            "28        60 2020-12-28    103       132       NaN\n",
            "29        60 2020-12-29    100       132     280.0\n",
            "30        60 2020-12-30    102       129     380.3\n",
            "31        60 2020-12-31     92       115     243.0\n"
          ]
        }
      ]
    },
    {
      "cell_type": "markdown",
      "source": [
        "*Removing Rows*\n",
        "Another way of handling wrong data is to remove the rows that contains wrong data.\n",
        "\n",
        "This way you do not have to find out what to replace them with, and there is a good chance you do not need them to do your analyses."
      ],
      "metadata": {
        "id": "xIPor-MQ6jfU"
      }
    },
    {
      "cell_type": "code",
      "source": [
        "df = pd.read_csv('data.csv')\n",
        "for x in df.index:\n",
        "  if df.loc[x, \"Duration\"] > 120:\n",
        "    df.drop(x, inplace = True)\n",
        "\n",
        "print(df.to_string())"
      ],
      "metadata": {
        "colab": {
          "base_uri": "https://localhost:8080/"
        },
        "id": "3Vx1E5Q36UDn",
        "outputId": "0d0a0a6b-d3cb-4780-f44a-a08cef396607"
      },
      "execution_count": 43,
      "outputs": [
        {
          "output_type": "stream",
          "name": "stdout",
          "text": [
            "     Duration  Pulse  Maxpulse  Calories\n",
            "0          60    110       130     409.1\n",
            "1          60    117       145     479.0\n",
            "2          60    103       135     340.0\n",
            "3          45    109       175     282.4\n",
            "4          45    117       148     406.0\n",
            "5          60    102       127     300.0\n",
            "6          60    110       136     374.0\n",
            "7          45    104       134     253.3\n",
            "8          30    109       133     195.1\n",
            "9          60     98       124     269.0\n",
            "10         60    103       147     329.3\n",
            "11         60    100       120     250.7\n",
            "12         60    106       128     345.3\n",
            "13         60    104       132     379.3\n",
            "14         60     98       123     275.0\n",
            "15         60     98       120     215.2\n",
            "16         60    100       120     300.0\n",
            "17         45     90       112       NaN\n",
            "18         60    103       123     323.0\n",
            "19         45     97       125     243.0\n",
            "20         60    108       131     364.2\n",
            "21         45    100       119     282.0\n",
            "22         60    130       101     300.0\n",
            "23         45    105       132     246.0\n",
            "24         60    102       126     334.5\n",
            "25         60    100       120     250.0\n",
            "26         60     92       118     241.0\n",
            "27         60    103       132       NaN\n",
            "28         60    100       132     280.0\n",
            "29         60    102       129     380.3\n",
            "30         60     92       115     243.0\n",
            "31         45     90       112     180.1\n",
            "32         60    101       124     299.0\n",
            "33         60     93       113     223.0\n",
            "34         60    107       136     361.0\n",
            "35         60    114       140     415.0\n",
            "36         60    102       127     300.0\n",
            "37         60    100       120     300.0\n",
            "38         60    100       120     300.0\n",
            "39         45    104       129     266.0\n",
            "40         45     90       112     180.1\n",
            "41         60     98       126     286.0\n",
            "42         60    100       122     329.4\n",
            "43         60    111       138     400.0\n",
            "44         60    111       131     397.0\n",
            "45         60     99       119     273.0\n",
            "46         60    109       153     387.6\n",
            "47         45    111       136     300.0\n",
            "48         45    108       129     298.0\n",
            "49         60    111       139     397.6\n",
            "50         60    107       136     380.2\n",
            "51         80    123       146     643.1\n",
            "52         60    106       130     263.0\n",
            "53         60    118       151     486.0\n",
            "54         30    136       175     238.0\n",
            "55         60    121       146     450.7\n",
            "56         60    118       121     413.0\n",
            "57         45    115       144     305.0\n",
            "58         20    153       172     226.4\n",
            "59         45    123       152     321.0\n",
            "63         45    118       141     341.0\n",
            "64         20    110       130     131.4\n",
            "68         20    106       136     110.4\n",
            "71         60    109       153     387.6\n",
            "72         90    100       127     700.0\n",
            "74         45    114       146     304.0\n",
            "75         90     98       125     563.2\n",
            "76         45    105       134     251.0\n",
            "77         45    110       141     300.0\n",
            "78        120    100       130     500.4\n",
            "80         30    159       182     319.2\n",
            "81         45    149       169     344.0\n",
            "82         30    103       139     151.1\n",
            "83        120    100       130     500.0\n",
            "84         45    100       120     225.3\n",
            "85         30    151       170     300.0\n",
            "86         45    102       136     234.0\n",
            "87        120    100       157    1000.1\n",
            "88         45    129       103     242.0\n",
            "89         20     83       107      50.3\n",
            "91         45    107       137       NaN\n",
            "92         30     90       107     105.3\n",
            "93         15     80       100      50.5\n",
            "94         20    150       171     127.4\n",
            "95         20    151       168     229.4\n",
            "96         30     95       128     128.2\n",
            "97         25    152       168     244.2\n",
            "98         30    109       131     188.2\n",
            "99         90     93       124     604.1\n",
            "100        20     95       112      77.7\n",
            "101        90     90       110     500.0\n",
            "102        90     90       100     500.0\n",
            "103        90     90       100     500.4\n",
            "104        30     92       108      92.7\n",
            "105        30     93       128     124.0\n",
            "107        30     90       120      86.2\n",
            "108        90     90       120     500.3\n",
            "110        60    102       124     325.2\n",
            "111        45    107       124     275.0\n",
            "112        15    124       139     124.2\n",
            "113        45    100       120     225.3\n",
            "114        60    108       131     367.6\n",
            "115        60    108       151     351.7\n",
            "116        60    116       141     443.0\n",
            "117        60     97       122     277.4\n",
            "118        60    105       125       NaN\n",
            "119        60    103       124     332.7\n",
            "120        30    112       137     193.9\n",
            "121        45    100       120     100.7\n",
            "122        60    119       169     336.7\n",
            "123        60    107       127     344.9\n",
            "124        60    111       151     368.5\n",
            "125        60     98       122     271.0\n",
            "126        60     97       124     275.3\n",
            "127        60    109       127     382.0\n",
            "128        90     99       125     466.4\n",
            "129        60    114       151     384.0\n",
            "130        60    104       134     342.5\n",
            "131        60    107       138     357.5\n",
            "132        60    103       133     335.0\n",
            "133        60    106       132     327.5\n",
            "134        60    103       136     339.0\n",
            "135        20    136       156     189.0\n",
            "136        45    117       143     317.7\n",
            "137        45    115       137     318.0\n",
            "138        45    113       138     308.0\n",
            "139        20    141       162     222.4\n",
            "140        60    108       135     390.0\n",
            "141        60     97       127       NaN\n",
            "142        45    100       120     250.4\n",
            "143        45    122       149     335.4\n",
            "144        60    136       170     470.2\n",
            "145        45    106       126     270.8\n",
            "146        60    107       136     400.0\n",
            "147        60    112       146     361.9\n",
            "148        30    103       127     185.0\n",
            "149        60    110       150     409.4\n",
            "150        60    106       134     343.0\n",
            "151        60    109       129     353.2\n",
            "152        60    109       138     374.0\n",
            "153        30    150       167     275.8\n",
            "154        60    105       128     328.0\n",
            "155        60    111       151     368.5\n",
            "156        60     97       131     270.4\n",
            "157        60    100       120     270.4\n",
            "158        60    114       150     382.8\n",
            "159        30     80       120     240.9\n",
            "160        30     85       120     250.4\n",
            "161        45     90       130     260.4\n",
            "162        45     95       130     270.0\n",
            "163        45    100       140     280.9\n",
            "164        60    105       140     290.8\n",
            "165        60    110       145     300.0\n",
            "166        60    115       145     310.2\n",
            "167        75    120       150     320.4\n",
            "168        75    125       150     330.4\n"
          ]
        }
      ]
    },
    {
      "cell_type": "markdown",
      "source": [
        "***Pandas - Removing Duplicates***"
      ],
      "metadata": {
        "id": "fYdNk3Rm7LeH"
      }
    },
    {
      "cell_type": "markdown",
      "source": [
        "Discovering Duplicates\n",
        "Duplicate rows are rows that have been registered more than one time."
      ],
      "metadata": {
        "id": "jIcfNnSb7PjY"
      }
    },
    {
      "cell_type": "markdown",
      "source": [
        "By taking a look at our test data set, we can assume that row 11 and 12 are duplicates.\n",
        "\n",
        "To discover duplicates, we can use the *duplicated()* method.\n",
        "\n",
        "The *duplicated()* method returns a Boolean values for each row:"
      ],
      "metadata": {
        "id": "M5lmBUbK7Stt"
      }
    },
    {
      "cell_type": "code",
      "source": [
        "df = pd.read_csv('datas.csv')\n",
        "\n",
        "print(df.duplicated())"
      ],
      "metadata": {
        "colab": {
          "base_uri": "https://localhost:8080/"
        },
        "id": "WON0S2Ue6u9-",
        "outputId": "84c3ad52-6965-4d16-c146-03f550c46c19"
      },
      "execution_count": 44,
      "outputs": [
        {
          "output_type": "stream",
          "name": "stdout",
          "text": [
            "0     False\n",
            "1     False\n",
            "2     False\n",
            "3     False\n",
            "4     False\n",
            "5     False\n",
            "6     False\n",
            "7     False\n",
            "8     False\n",
            "9     False\n",
            "10    False\n",
            "11    False\n",
            "12     True\n",
            "13    False\n",
            "14    False\n",
            "15    False\n",
            "16    False\n",
            "17    False\n",
            "18    False\n",
            "19    False\n",
            "20    False\n",
            "21    False\n",
            "22    False\n",
            "23    False\n",
            "24    False\n",
            "25    False\n",
            "26    False\n",
            "27    False\n",
            "28    False\n",
            "29    False\n",
            "30    False\n",
            "31    False\n",
            "dtype: bool\n"
          ]
        }
      ]
    },
    {
      "cell_type": "markdown",
      "source": [
        "*Removing Duplicates*\n",
        "\n",
        "To remove duplicates, use the *drop_duplicates()* method."
      ],
      "metadata": {
        "id": "LaKkW-N57nwA"
      }
    },
    {
      "cell_type": "code",
      "source": [
        "df = pd.read_csv('datas.csv')\n",
        "\n",
        "df.drop_duplicates(inplace = True)\n",
        "\n",
        "print(df.to_string())\n",
        "\n",
        "#Notice that row 12 has been removed from the result\n"
      ],
      "metadata": {
        "colab": {
          "base_uri": "https://localhost:8080/"
        },
        "id": "gNvlVJUp7hXK",
        "outputId": "22855f63-dea6-44f5-fef4-4ac9589369cd"
      },
      "execution_count": 46,
      "outputs": [
        {
          "output_type": "stream",
          "name": "stdout",
          "text": [
            "    Duration          Date  Pulse  Maxpulse  Calories\n",
            "0         60  '2020/12/01'    110       130     409.1\n",
            "1         60  '2020/12/02'    117       145     479.0\n",
            "2         60  '2020/12/03'    103       135     340.0\n",
            "3         45  '2020/12/04'    109       175     282.4\n",
            "4         45  '2020/12/05'    117       148     406.0\n",
            "5         60  '2020/12/06'    102       127     300.0\n",
            "6         60  '2020/12/07'    110       136     374.0\n",
            "7        450  '2020/12/08'    104       134     253.3\n",
            "8         30  '2020/12/09'    109       133     195.1\n",
            "9         60  '2020/12/10'     98       124     269.0\n",
            "10        60  '2020/12/11'    103       147     329.3\n",
            "11        60  '2020/12/12'    100       120     250.7\n",
            "13        60  '2020/12/13'    106       128     345.3\n",
            "14        60  '2020/12/14'    104       132     379.3\n",
            "15        60  '2020/12/15'     98       123     275.0\n",
            "16        60  '2020/12/16'     98       120     215.2\n",
            "17        60  '2020/12/17'    100       120     300.0\n",
            "18        45  '2020/12/18'     90       112       NaN\n",
            "19        60  '2020/12/19'    103       123     323.0\n",
            "20        45  '2020/12/20'     97       125     243.0\n",
            "21        60  '2020/12/21'    108       131     364.2\n",
            "22        45           NaN    100       119     282.0\n",
            "23        60  '2020/12/23'    130       101     300.0\n",
            "24        45  '2020/12/24'    105       132     246.0\n",
            "25        60  '2020/12/25'    102       126     334.5\n",
            "26        60      20201226    100       120     250.0\n",
            "27        60  '2020/12/27'     92       118     241.0\n",
            "28        60  '2020/12/28'    103       132       NaN\n",
            "29        60  '2020/12/29'    100       132     280.0\n",
            "30        60  '2020/12/30'    102       129     380.3\n",
            "31        60  '2020/12/31'     92       115     243.0\n"
          ]
        }
      ]
    },
    {
      "cell_type": "markdown",
      "source": [
        "Remember: The *(inplace = True)* will make sure that the method does NOT return a new DataFrame, but it will remove all duplicates from the original DataFrame."
      ],
      "metadata": {
        "id": "0PMXBcHb76GK"
      }
    },
    {
      "cell_type": "code",
      "source": [],
      "metadata": {
        "id": "6ehTdZnI8BZ-"
      },
      "execution_count": null,
      "outputs": []
    }
  ]
}