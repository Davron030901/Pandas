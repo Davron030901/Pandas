{
  "cells": [
    {
      "cell_type": "markdown",
      "metadata": {
        "id": "view-in-github",
        "colab_type": "text"
      },
      "source": [
        "<a href=\"https://colab.research.google.com/github/Davron030901/Pandas/blob/main/01_08_sum.ipynb\" target=\"_parent\"><img src=\"https://colab.research.google.com/assets/colab-badge.svg\" alt=\"Open In Colab\"/></a>"
      ]
    },
    {
      "cell_type": "code",
      "execution_count": null,
      "metadata": {
        "id": "iXOBLAURmSLG"
      },
      "outputs": [],
      "source": [
        "# initialize nums as a tuple containing some integers\n",
        "nums = (5, -2, 7, -1, 9, 0)"
      ]
    },
    {
      "cell_type": "code",
      "execution_count": null,
      "metadata": {
        "id": "JTnxcHBvmSLO"
      },
      "outputs": [],
      "source": [
        "# compute the sum of the items in nums\n",
        "sum(nums)"
      ]
    },
    {
      "cell_type": "code",
      "execution_count": null,
      "metadata": {
        "id": "i0Fm3v0umSLQ"
      },
      "outputs": [],
      "source": [
        "# initialize listN as a list containing some integers\n",
        "listN = [212, 305, -736, -801, 999]"
      ]
    },
    {
      "cell_type": "code",
      "execution_count": null,
      "metadata": {
        "id": "Rtq6j2r-mSLR"
      },
      "outputs": [],
      "source": [
        "# compute the sum of the items in listN\n",
        "sum(listN)"
      ]
    }
  ],
  "metadata": {
    "kernelspec": {
      "display_name": "Python 3",
      "language": "python",
      "name": "python3"
    },
    "language_info": {
      "codemirror_mode": {
        "name": "ipython",
        "version": 3
      },
      "file_extension": ".py",
      "mimetype": "text/x-python",
      "name": "python",
      "nbconvert_exporter": "python",
      "pygments_lexer": "ipython3",
      "version": "3.6.9"
    },
    "colab": {
      "provenance": [],
      "include_colab_link": true
    }
  },
  "nbformat": 4,
  "nbformat_minor": 0
}