{
  "cells": [
    {
      "cell_type": "markdown",
      "metadata": {
        "id": "view-in-github",
        "colab_type": "text"
      },
      "source": [
        "<a href=\"https://colab.research.google.com/github/Davron030901/Pandas/blob/main/01_07_sorted.ipynb\" target=\"_parent\"><img src=\"https://colab.research.google.com/assets/colab-badge.svg\" alt=\"Open In Colab\"/></a>"
      ]
    },
    {
      "cell_type": "code",
      "execution_count": null,
      "metadata": {
        "id": "l4gNj6XYu8pR"
      },
      "outputs": [],
      "source": [
        "# initialize names as a list containing the names of some people\n",
        "names = ['Alondra', 'Spencer', 'Elizabeth', 'Eddie', 'Henrietta']"
      ]
    },
    {
      "cell_type": "code",
      "execution_count": null,
      "metadata": {
        "colab": {
          "base_uri": "https://localhost:8080/"
        },
        "id": "xinqO2eYu8pT",
        "outputId": "03d1b67b-01eb-4358-e914-955d98feeb01"
      },
      "outputs": [
        {
          "output_type": "execute_result",
          "data": {
            "text/plain": [
              "['Alondra', 'Eddie', 'Elizabeth', 'Henrietta', 'Spencer']"
            ]
          },
          "metadata": {},
          "execution_count": 3
        }
      ],
      "source": [
        "# sort names in ascending alphabetical order & save in variable names_sorted_a\n",
        "names_sorted_a =sorted(names)\n",
        "names_sorted_a"
      ]
    },
    {
      "cell_type": "code",
      "execution_count": null,
      "metadata": {
        "colab": {
          "base_uri": "https://localhost:8080/"
        },
        "id": "HreFd7Yyu8pU",
        "outputId": "186bf001-81f1-4895-df0f-c65b9455915c"
      },
      "outputs": [
        {
          "output_type": "execute_result",
          "data": {
            "text/plain": [
              "['Alondra', 'Spencer', 'Elizabeth', 'Eddie', 'Henrietta']"
            ]
          },
          "metadata": {},
          "execution_count": 4
        }
      ],
      "source": [
        "# note that names itself was not modified\n",
        "names"
      ]
    },
    {
      "cell_type": "code",
      "execution_count": null,
      "metadata": {
        "colab": {
          "base_uri": "https://localhost:8080/"
        },
        "id": "nIZ04zo4u8pa",
        "outputId": "e6cb79f9-3d81-4c51-f9a1-60e6991be568"
      },
      "outputs": [
        {
          "output_type": "execute_result",
          "data": {
            "text/plain": [
              "['Spencer', 'Henrietta', 'Elizabeth', 'Eddie', 'Alondra']"
            ]
          },
          "metadata": {},
          "execution_count": 7
        }
      ],
      "source": [
        "# sort names in descending alphabetical order & save in variable names_sorted_d\n",
        "names_sorted_d = sorted(names,reverse=True)\n",
        "names_sorted_d"
      ]
    },
    {
      "cell_type": "code",
      "execution_count": null,
      "metadata": {
        "colab": {
          "base_uri": "https://localhost:8080/"
        },
        "id": "l0gTFgIzu8pb",
        "outputId": "7d1b9ebd-3485-4c89-ccda-f00ea2bfe8cf"
      },
      "outputs": [
        {
          "output_type": "execute_result",
          "data": {
            "text/plain": [
              "['Alondra', 'Spencer', 'Elizabeth', 'Eddie', 'Henrietta']"
            ]
          },
          "metadata": {},
          "execution_count": 8
        }
      ],
      "source": [
        "# note that names itself was not modified\n",
        "names"
      ]
    },
    {
      "cell_type": "code",
      "execution_count": null,
      "metadata": {
        "id": "XFDw6FZpu8pc"
      },
      "outputs": [],
      "source": [
        "# initialize nums as a tuple containing some integers\n",
        "nums = (5, -2, 7, -1, 9, 0)"
      ]
    },
    {
      "cell_type": "code",
      "execution_count": null,
      "metadata": {
        "colab": {
          "base_uri": "https://localhost:8080/"
        },
        "id": "gcfzWCpbu8pd",
        "outputId": "602807f7-be25-4679-98dd-4765facc6537"
      },
      "outputs": [
        {
          "output_type": "execute_result",
          "data": {
            "text/plain": [
              "[-2, -1, 0, 5, 7, 9]"
            ]
          },
          "metadata": {},
          "execution_count": 10
        }
      ],
      "source": [
        "# sort nums in ascending order & save in variable nums_sorted_a\n",
        "nums_sorted_a = sorted(nums)\n",
        "nums_sorted_a"
      ]
    },
    {
      "cell_type": "code",
      "execution_count": null,
      "metadata": {
        "colab": {
          "base_uri": "https://localhost:8080/"
        },
        "id": "8PWugcPXu8pe",
        "outputId": "122369fd-a089-4110-f83a-3a7424d37d88"
      },
      "outputs": [
        {
          "output_type": "execute_result",
          "data": {
            "text/plain": [
              "(5, -2, 7, -1, 9, 0)"
            ]
          },
          "metadata": {},
          "execution_count": 11
        }
      ],
      "source": [
        "# note that nums itself was not modified\n",
        "nums"
      ]
    },
    {
      "cell_type": "code",
      "execution_count": null,
      "metadata": {
        "colab": {
          "base_uri": "https://localhost:8080/"
        },
        "id": "U1IuivoHu8pf",
        "outputId": "dffe407b-a825-440a-eb04-b9f901445f35"
      },
      "outputs": [
        {
          "output_type": "execute_result",
          "data": {
            "text/plain": [
              "[9, 7, 5, 0, -1, -2]"
            ]
          },
          "metadata": {},
          "execution_count": 12
        }
      ],
      "source": [
        "# sort nums in descending order & save in variable nums_sorted_d\n",
        "nums_sorted_d = sorted(nums, reverse=True)\n",
        "nums_sorted_d"
      ]
    },
    {
      "cell_type": "code",
      "execution_count": null,
      "metadata": {
        "colab": {
          "base_uri": "https://localhost:8080/"
        },
        "id": "ZY15q_iBu8pg",
        "outputId": "077c73e4-d124-4191-a0b4-e2b12854b479"
      },
      "outputs": [
        {
          "output_type": "execute_result",
          "data": {
            "text/plain": [
              "(5, -2, 7, -1, 9, 0)"
            ]
          },
          "metadata": {},
          "execution_count": 13
        }
      ],
      "source": [
        "# note that nums itself was not modified\n",
        "nums"
      ]
    },
    {
      "cell_type": "code",
      "execution_count": null,
      "metadata": {
        "id": "gWWnFLM3u8pi"
      },
      "outputs": [],
      "source": [
        "# initialize listF as a list containing some floating-point numbers\n",
        "listF = [1.2, -6.17, -9.53, 5.8, -6.7]"
      ]
    },
    {
      "cell_type": "code",
      "execution_count": null,
      "metadata": {
        "colab": {
          "base_uri": "https://localhost:8080/"
        },
        "id": "X7NmjZX2u8pj",
        "outputId": "249b55ab-700b-4920-d4f6-a8c807708256"
      },
      "outputs": [
        {
          "output_type": "execute_result",
          "data": {
            "text/plain": [
              "[-9.53, -6.7, -6.17, 1.2, 5.8]"
            ]
          },
          "metadata": {},
          "execution_count": 15
        }
      ],
      "source": [
        "# sort listF in ascending order & save in variable listF_sorted_a\n",
        "listF_sorted_a = sorted(listF)\n",
        "listF_sorted_a"
      ]
    },
    {
      "cell_type": "code",
      "execution_count": null,
      "metadata": {
        "colab": {
          "base_uri": "https://localhost:8080/"
        },
        "id": "Gn9bw5GCu8pk",
        "outputId": "bd8e9817-8468-4803-dae7-1a901ed21504"
      },
      "outputs": [
        {
          "output_type": "execute_result",
          "data": {
            "text/plain": [
              "[1.2, -6.17, -9.53, 5.8, -6.7]"
            ]
          },
          "metadata": {},
          "execution_count": 16
        }
      ],
      "source": [
        "# note that listF itself was not modified\n",
        "listF"
      ]
    },
    {
      "cell_type": "code",
      "execution_count": null,
      "metadata": {
        "id": "TQ9kxCE6u8pk"
      },
      "outputs": [],
      "source": [
        "# sort listF in descending order & save in variable listF_sorted_d\n",
        "listF_sorted_d = sorted(listF, reverse=True)\n",
        "listF_sorted_d"
      ]
    },
    {
      "cell_type": "code",
      "execution_count": null,
      "metadata": {
        "id": "0C4Yf6f8u8pl"
      },
      "outputs": [],
      "source": [
        "# note that listF itself was not modified\n",
        "listF"
      ]
    },
    {
      "cell_type": "code",
      "execution_count": null,
      "metadata": {
        "id": "F-fSYDlBu8pl"
      },
      "outputs": [],
      "source": []
    }
  ],
  "metadata": {
    "kernelspec": {
      "display_name": "Python 3",
      "language": "python",
      "name": "python3"
    },
    "language_info": {
      "codemirror_mode": {
        "name": "ipython",
        "version": 3
      },
      "file_extension": ".py",
      "mimetype": "text/x-python",
      "name": "python",
      "nbconvert_exporter": "python",
      "pygments_lexer": "ipython3",
      "version": "3.6.9"
    },
    "colab": {
      "provenance": [],
      "include_colab_link": true
    }
  },
  "nbformat": 4,
  "nbformat_minor": 0
}