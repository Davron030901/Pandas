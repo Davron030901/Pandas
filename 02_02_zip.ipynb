{
  "cells": [
    {
      "cell_type": "markdown",
      "metadata": {
        "id": "view-in-github",
        "colab_type": "text"
      },
      "source": [
        "<a href=\"https://colab.research.google.com/github/Davron030901/Pandas/blob/main/02_02_zip.ipynb\" target=\"_parent\"><img src=\"https://colab.research.google.com/assets/colab-badge.svg\" alt=\"Open In Colab\"/></a>"
      ]
    },
    {
      "cell_type": "code",
      "execution_count": null,
      "metadata": {
        "id": "2BCgHn41_t14"
      },
      "outputs": [],
      "source": [
        "# points scored by each of five players in game1\n",
        "points_game1 = [50, 40, 60, 70, 80]"
      ]
    },
    {
      "cell_type": "code",
      "execution_count": null,
      "metadata": {
        "id": "ZFnZJRuR_t16"
      },
      "outputs": [],
      "source": [
        "# points scored by each of five players in game2\n",
        "points_game2 = [76, 81, 53, 92, 67]"
      ]
    },
    {
      "cell_type": "code",
      "execution_count": null,
      "metadata": {
        "colab": {
          "base_uri": "https://localhost:8080/"
        },
        "id": "oUfZdnuG_t17",
        "outputId": "8ca740f4-a651-46bc-92f6-2be28c78de57"
      },
      "outputs": [
        {
          "output_type": "execute_result",
          "data": {
            "text/plain": [
              "[26, 41, 7, 22, 13]"
            ]
          },
          "metadata": {},
          "execution_count": 6
        }
      ],
      "source": [
        "# sequence where points differences will be saved\n",
        "diffs = []\n",
        "\n",
        "# iterate through points_game1 and points_game2 at the same time\n",
        "for x, y in zip(points_game1, points_game2):\n",
        "    # compute absolute difference in points between game1 and game2\n",
        "    # add to diffs\n",
        "    diffs.append(abs(x - y))\n",
        "\n",
        "diffs"
      ]
    },
    {
      "cell_type": "code",
      "execution_count": null,
      "metadata": {
        "id": "N8l1uDKJ_t18"
      },
      "outputs": [],
      "source": []
    }
  ],
  "metadata": {
    "kernelspec": {
      "display_name": "Python 3",
      "language": "python",
      "name": "python3"
    },
    "language_info": {
      "codemirror_mode": {
        "name": "ipython",
        "version": 3
      },
      "file_extension": ".py",
      "mimetype": "text/x-python",
      "name": "python",
      "nbconvert_exporter": "python",
      "pygments_lexer": "ipython3",
      "version": "3.6.9"
    },
    "colab": {
      "provenance": [],
      "include_colab_link": true
    }
  },
  "nbformat": 4,
  "nbformat_minor": 0
}