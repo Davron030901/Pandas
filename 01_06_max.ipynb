{
  "cells": [
    {
      "cell_type": "markdown",
      "metadata": {
        "id": "view-in-github",
        "colab_type": "text"
      },
      "source": [
        "<a href=\"https://colab.research.google.com/github/Davron030901/Pandas/blob/main/01_06_max.ipynb\" target=\"_parent\"><img src=\"https://colab.research.google.com/assets/colab-badge.svg\" alt=\"Open In Colab\"/></a>"
      ]
    },
    {
      "cell_type": "code",
      "execution_count": null,
      "metadata": {
        "id": "TJRm4malNt9b"
      },
      "outputs": [],
      "source": [
        "# initialize nums as a tuple containing some integers\n",
        "nums = (5, -2, 7, -1, 9, 0)"
      ]
    },
    {
      "cell_type": "code",
      "execution_count": null,
      "metadata": {
        "id": "WFSjGI5lNt9f"
      },
      "outputs": [],
      "source": [
        "# find largest item in nums\n",
        "max(nums)"
      ]
    },
    {
      "cell_type": "code",
      "execution_count": null,
      "metadata": {
        "id": "U5JihiD0Nt9g"
      },
      "outputs": [],
      "source": [
        "# initialize listF as a list containing some floating-point numbers\n",
        "listF = [1.2, -6.17, -9.53, 5.8, -6.7]"
      ]
    },
    {
      "cell_type": "code",
      "execution_count": null,
      "metadata": {
        "id": "VCIFjvn-Nt9h"
      },
      "outputs": [],
      "source": [
        "# find largest item in listF\n",
        "max(listF)"
      ]
    },
    {
      "cell_type": "code",
      "execution_count": null,
      "metadata": {
        "id": "0dFBbSC4Nt9i"
      },
      "outputs": [],
      "source": [
        "# find largest item among a series of numbers\n",
        "max(3.84, 3.48, 3.8, 3.004, 3.04)"
      ]
    },
    {
      "cell_type": "code",
      "execution_count": null,
      "metadata": {
        "id": "9-GF3LJfNt9j"
      },
      "outputs": [],
      "source": []
    }
  ],
  "metadata": {
    "kernelspec": {
      "display_name": "Python 3",
      "language": "python",
      "name": "python3"
    },
    "language_info": {
      "codemirror_mode": {
        "name": "ipython",
        "version": 3
      },
      "file_extension": ".py",
      "mimetype": "text/x-python",
      "name": "python",
      "nbconvert_exporter": "python",
      "pygments_lexer": "ipython3",
      "version": "3.6.9"
    },
    "colab": {
      "provenance": [],
      "include_colab_link": true
    }
  },
  "nbformat": 4,
  "nbformat_minor": 0
}